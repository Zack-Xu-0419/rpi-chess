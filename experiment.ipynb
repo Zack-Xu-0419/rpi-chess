{
 "cells": [
  {
   "cell_type": "code",
   "execution_count": 1,
   "metadata": {},
   "outputs": [],
   "source": [
    "import numpy as np\n",
    "import cv2 as cv"
   ]
  },
  {
   "cell_type": "code",
   "execution_count": null,
   "metadata": {},
   "outputs": [],
   "source": [
    "output = cv.imread('test.jpg')\n",
    "hsv_img = cv.cvtColor(output, cv.COLOR_BGR2HSV)\n",
    "\n",
    "# Define the range of green color in HSV\n",
    "lower_green = np.array([36, 25, 25])\n",
    "upper_green = np.array([86, 255, 255])\n",
    "\n",
    "# Create a mask for green color\n",
    "green_mask = cv.inRange(hsv_img, lower_green, upper_green)\n",
    "\n",
    "# Apply the mask to the original image\n",
    "result = cv.bitwise_and(output, output, mask=green_mask)"
   ]
  }
 ],
 "metadata": {
  "kernelspec": {
   "display_name": "pytorch",
   "language": "python",
   "name": "python3"
  },
  "language_info": {
   "codemirror_mode": {
    "name": "ipython",
    "version": 3
   },
   "file_extension": ".py",
   "mimetype": "text/x-python",
   "name": "python",
   "nbconvert_exporter": "python",
   "pygments_lexer": "ipython3",
   "version": "3.8.10"
  },
  "orig_nbformat": 4
 },
 "nbformat": 4,
 "nbformat_minor": 2
}
